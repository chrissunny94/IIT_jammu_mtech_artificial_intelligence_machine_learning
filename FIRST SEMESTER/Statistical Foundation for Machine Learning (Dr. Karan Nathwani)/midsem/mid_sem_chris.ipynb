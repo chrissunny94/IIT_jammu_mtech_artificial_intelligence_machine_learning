{
 "cells": [
  {
   "attachments": {},
   "cell_type": "markdown",
   "metadata": {},
   "source": [
    "CHRIS SUNNY THALIYATH "
   ]
  },
  {
   "cell_type": "code",
   "execution_count": null,
   "metadata": {},
   "outputs": [
    {
     "ename": "",
     "evalue": "",
     "output_type": "error",
     "traceback": [
      "\u001b[1;31mRunning cells with '/opt/homebrew/bin/python3' requires the ipykernel package.\n",
      "\u001b[1;31mRun the following command to install 'ipykernel' into the Python environment. \n",
      "\u001b[1;31mCommand: '/opt/homebrew/bin/python3 -m pip install ipykernel -U --user --force-reinstall'"
     ]
    }
   ],
   "source": [
    "\n",
    "####\n",
    "\n",
    "## QUESTION 3\n",
    "from warnings import warn\n",
    "\n",
    "import numpy as np\n",
    "#from scipy.linalg.fblas import dgemm\n",
    "from scipy.linalg.blas import dgemm\n",
    "\n",
    "\n",
    "def linear_least_squares(a, b, residuals=False):\n",
    "    if type(a) != np.ndarray or not a.flags['C_CONTIGUOUS']:\n",
    "        warn('Matrix a is not a C-contiguous numpy array.')\n",
    "\n",
    "    a = np.asarray(a, order='c')\n",
    "    i = dgemm(alpha=1.0, a=a.T, b=a.T, trans_b=True)\n",
    "    x = np.linalg.solve(i, dgemm(alpha=1.0, a=a.T, b=b)).flatten()\n",
    "\n",
    "    if residuals:\n",
    "        return x, np.linalg.norm(np.dot(a, x) - b)\n",
    "    else:\n",
    "        return x\n",
    "\n",
    "\n",
    "if __name__ == \"__main__\":\n",
    "    x = np.array([0, 0.25, 1.0, 1.5, 2.0,2,5], float)\t# x-values\n",
    "    y = np.array([0, 0.25, 1.0, 2.25, 4.0,6,25], float)\t# y-values (actual)\n",
    "\n",
    "    A = np.vstack([x, np.ones(len(x))]).T\n",
    "    A = np.asarray(A, order='c')\n",
    "\n",
    "    m, c = linear_least_squares(A, y)\n",
    "\n",
    "    print( m, c)\n",
    "\n",
    "    import matplotlib.pyplot as plt\n",
    "\n",
    "    plt.plot(x, y, 'o', label='Original data', markersize=10)\n",
    "    plt.plot(x, m * x + c, 'r', label='Fitted line')\n",
    "    plt.legend()\n",
    "    plt.show()\n"
   ]
  },
  {
   "attachments": {},
   "cell_type": "markdown",
   "metadata": {},
   "source": []
  },
  {
   "cell_type": "code",
   "execution_count": null,
   "metadata": {},
   "outputs": [],
   "source": [
    "## QUESTION 5\n",
    "\n",
    "# install sympy\n",
    "#! pip install sympy\n",
    " \n",
    "# import sympy\n",
    "import sympy\n",
    " \n",
    "# find the reduced row echelon form\n",
    "print(sympy.Matrix([[0,1,4],[1,2,-1],[5,8,0]]).rref())\n",
    " \n",
    "# find the rank of matrix\n",
    "print(\"Rank of matrix :\",sympy.Matrix([[0,1,4],[1,2,-1],[5,8,0]]).rank())"
   ]
  },
  {
   "cell_type": "code",
   "execution_count": null,
   "metadata": {},
   "outputs": [
    {
     "ename": "",
     "evalue": "",
     "output_type": "error",
     "traceback": [
      "\u001b[1;31mRunning cells with '/opt/homebrew/bin/python3' requires the ipykernel package.\n",
      "\u001b[1;31mRun the following command to install 'ipykernel' into the Python environment. \n",
      "\u001b[1;31mCommand: '/opt/homebrew/bin/python3 -m pip install ipykernel -U --user --force-reinstall'"
     ]
    }
   ],
   "source": [
    "#QUESTION 4 \n",
    "\n",
    "def jt_dens(x,y):\n",
    "    if y < x:\n",
    "        return 0\n",
    "    else:\n",
    "        return (12/5)* x* (2-x-y)\n",
    "\n",
    "Plot_3d(x_limits=(0,1), y_limits=(0,1), f=jt_dens, cstride=4, rstride=4)"
   ]
  }
 ],
 "metadata": {
  "kernelspec": {
   "display_name": "Python 3",
   "language": "python",
   "name": "python3"
  },
  "language_info": {
   "codemirror_mode": {
    "name": "ipython",
    "version": 3
   },
   "file_extension": ".py",
   "mimetype": "text/x-python",
   "name": "python",
   "nbconvert_exporter": "python",
   "pygments_lexer": "ipython3",
   "version": "3.11.4"
  },
  "orig_nbformat": 4
 },
 "nbformat": 4,
 "nbformat_minor": 2
}
