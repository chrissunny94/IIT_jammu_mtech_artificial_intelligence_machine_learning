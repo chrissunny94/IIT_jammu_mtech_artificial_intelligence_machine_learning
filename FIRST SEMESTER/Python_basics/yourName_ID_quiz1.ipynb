{
  "cells": [
    {
      "attachments": {},
      "cell_type": "markdown",
      "metadata": {
        "id": "mrT_DAMtWJVD"
      },
      "source": [
        "# QUIZ -8-July-2023\n",
        "# Chris Sunny Thaliyath"
      ]
    },
    {
      "attachments": {},
      "cell_type": "markdown",
      "metadata": {
        "id": "D407rHfaWj_P"
      },
      "source": [
        "Question 1: You are given a list of integers. Write a Python function to find the maximum sum of any subarray that contains at least one negative number. The subarray should be contiguous.\n",
        "\n",
        "Example:\\\n",
        "Input: [2, -3, 5, -7, 2, 4, -1]\\\n",
        "Output: 9 (subarray: [5, -7, 2, 4])"
      ]
    },
    {
      "cell_type": "code",
      "execution_count": 3,
      "metadata": {
        "id": "qhlhxV1oWKKs"
      },
      "outputs": [
        {
          "name": "stdout",
          "output_type": "stream",
          "text": [
            "['1,2,3,4,5']\n"
          ]
        }
      ],
      "source": [
        "# Question 1: You are given a list of integers. Write a Python \n",
        "#function to find the maximum sum of any subarray that contains at least one negative number. \n",
        "#The subarray should be contiguous.\n",
        "# Example:\\\n",
        "# Input: [2, -3, 5, -7, 2, 4, -1]\\\n",
        "# Output: 9 (subarray: [5, -7, 2, 4])\n",
        "\n",
        "import numpy as np\n",
        "\n",
        "def check_if_array_has_negative(sub_array):\n",
        "    arr = np.array(sub_array)\n",
        "    #print(sub_array)\n",
        "    if np.any(arr < 0):\n",
        "        #print(\"The NumPy Array has at least one negative value\")\n",
        "        return True\n",
        "    else:\n",
        "        #print(\"The NumPy Array does not have any negative values\")\n",
        "        return False\n",
        "\n",
        "\n",
        "def find_max_sum_of_subarray_with_atleast_one_negative(input_array):\n",
        "    maxSum = 0\n",
        "    size_of_array = len(input_array)\n",
        "    print(size_of_array)\n",
        "    for i in range(0, size_of_array):\n",
        "        currSum = 0\n",
        "        for j in range(i, size_of_array):\n",
        "            subArray = (input_array[i:size_of_array])\n",
        "            if(check_if_array_has_negative(subArray)):\n",
        "                currSum = currSum + input_array[j]\n",
        "                if(currSum > maxSum):\n",
        "                    maxSum = currSum\n",
        "            else: \n",
        "                break\n",
        "            \n",
        "    return maxSum\n",
        "    \n",
        "\n",
        "numbers = str(input())\n",
        "numbers = numbers.split(',')\n",
        "\n",
        "\n",
        "for i in range(0, len(numbers)):\n",
        "    numbers[i] = int(numbers[i])\n",
        "\n",
        "#print(numbers)\n",
        "print(find_max_sum_of_subarray_with_atleast_one_negative(numbers))"
      ]
    },
    {
      "attachments": {},
      "cell_type": "markdown",
      "metadata": {
        "id": "8RdpFq48WkC_"
      },
      "source": [
        "Question 2: You are given a list of strings. Write a Python function to find the longest common prefix among all the strings in the list. The function should return an empty string if there is no common prefix.\\\n",
        "Example:\\\n",
        "Input: [\"flower\", \"flow\", \"flight\"]\\\n",
        "Output: \"fl\""
      ]
    },
    {
      "cell_type": "code",
      "execution_count": null,
      "metadata": {
        "id": "nS-xi9cAXPXs"
      },
      "outputs": [],
      "source": [
        "\n",
        "def FindlongestCommonPrefix( input_array_of_strings):\n",
        "     \n",
        "    size = len(input_array_of_strings)\n",
        "    if (size == 0):\n",
        "        return \"\"\n",
        " \n",
        "    if (size == 1):\n",
        "        return input_array_of_strings[0]\n",
        "    input_array_of_strings.sort()\n",
        "    \n",
        "    #hack to find the smallest string amonsgst the list of strings\n",
        "    minimum_length_of_string=len(input_array_of_strings[0])\n",
        "    for i in range(len(input_array_of_strings)):\n",
        "        minimum_length_of_string = min(minimum_length_of_string,len(input_array_of_strings[i]))\n",
        "   \n",
        "    count = 0\n",
        "    while (count < minimum_length_of_string and\n",
        "           input_array_of_strings[0][count] == input_array_of_strings[size - 1][count]):\n",
        "        count =count+ 1\n",
        " \n",
        "    prefix_output = input_array_of_strings[0][0: count]\n",
        "    return prefix_output\n",
        "\n",
        "input = str(input())\n",
        "input_string_array = input.split(',')\n",
        "\n",
        "output = FindlongestCommonPrefix(input_string_array)\n",
        "print(output)"
      ]
    },
    {
      "attachments": {},
      "cell_type": "markdown",
      "metadata": {
        "id": "U0qJ8OPIWkG6"
      },
      "source": [
        "Question 3: You are given a 2D list representing a maze where '0' represents an empty cell and '1' represents a wall. Write a Python function to find the shortest path from the top-left corner to the bottom-right corner of the maze. You can only move horizontally or vertically, not diagonally.\\\n",
        "Example:\\\n",
        "Example:\n",
        "Input:\n",
        "maze = [['0', '0', '0', '1'],\\\n",
        "['1', '1', '0', '1'],\\\n",
        "['0', '0', '0', '0'],\\\n",
        "['0', '1', '1', '0']]\\\n",
        "Output: [(0, 0), (1, 0), (2, 0), (2, 1), (2, 2), (2, 3), (3, 3)]"
      ]
    },
    {
      "cell_type": "code",
      "execution_count": null,
      "metadata": {},
      "outputs": [],
      "source": [
        "#function to find if its safe to travel\n",
        "def isSafe(mat, visited, x, y):\n",
        "    return 0 <= x < len(mat) and 0 <= y < len(mat[0]) and \\\n",
        "           not (mat[x][y] == 0 or visited[x][y])\n",
        "\n",
        "#function to find the shortespath\n",
        "def findShortestPath(mat, visited, i, j, dest, min_dist, dist=0):\n",
        "    if (i, j) == dest:\n",
        "        return min(dist, min_dist)\n",
        " \n",
        "    visited[i][j] = 1\n",
        "    if isSafe(mat, visited, i + 1, j):\n",
        "        min_dist = findShortestPath(mat, visited, i + 1, j, dest, min_dist, dist + 1)\n",
        "    if isSafe(mat, visited, i, j + 1):\n",
        "        min_dist = findShortestPath(mat, visited, i, j + 1, dest, min_dist, dist + 1)   \n",
        "    if isSafe(mat, visited, i - 1, j):\n",
        "        min_dist = findShortestPath(mat, visited, i - 1, j, dest, min_dist, dist + 1)\n",
        "    if isSafe(mat, visited, i, j - 1):\n",
        "        min_dist = findShortestPath(mat, visited, i, j - 1, dest, min_dist, dist + 1)\n",
        "    visited[i][j] = 0\n",
        " \n",
        "    return min_dist\n",
        " \n",
        "#function to print the path and shortest route\n",
        "def findShortestPathLength_andRoute(mat, src, dest):\n",
        " \n",
        "    i, j = src\n",
        "    x, y = dest\n",
        " \n",
        "    if not mat or len(mat) == 0 or mat[i][j] == 0 or mat[x][y] == 0:\n",
        "        return -1\n",
        "    (M, N) = (len(mat), len(mat[0]))\n",
        " \n",
        "    visited = [[False for _ in range(N)] for _ in range(M)]\n",
        "    min_dist = findShortestPath(mat, visited, i, j, dest)\n",
        " \n",
        "    \n",
        "    return min_dist\n",
        "    \n",
        " \n",
        "\n",
        " \n",
        "mat = [\n",
        "    ['0', '0', '0', '1'],\n",
        "    ['1', '1', '0', '1'],\n",
        "    ['0', '0', '0', '0'],\n",
        "    ['0', '1', '1', '0']\n",
        "]\n",
        " \n",
        "src = (0, 0)\n",
        "dest = (3, 3)\n",
        " \n",
        "min_dist = findShortestPathLength_andRoute(mat, src, dest)\n",
        " \n",
        "if min_dist != -1:\n",
        "    print(\"The shortest path from source to destination has length\", min_dist)\n",
        "else:\n",
        "    print(\"Destination cannot be reached from source\")"
      ]
    },
    {
      "attachments": {},
      "cell_type": "markdown",
      "metadata": {
        "id": "aVah2hNTWkKs"
      },
      "source": [
        "Question 4: You are given a list of strings representing words. Write a Python function to find the longest word that can be formed by deleting a single character from any of the words in the list.\n",
        "\n",
        "Example:\\\n",
        "Input: [\"apple\", \"pine\", \"banana\", \"peach\"]\\\n",
        "Output: \"banana\""
      ]
    },
    {
      "cell_type": "code",
      "execution_count": null,
      "metadata": {
        "id": "UlFHKUkhYER0"
      },
      "outputs": [],
      "source": [
        "\n",
        "def longest_string_after_deleting_a_charecter(input_string_array):\n",
        "    number_of_words = len(input_string_array)\n",
        "    max_length = -1\n",
        "    max_length_word = \"\"\n",
        "    for i in range(number_of_words):\n",
        "        for charracter in input_string_array[i]:\n",
        "            #print(charracter)\n",
        "            word_after_charracter_removed = input_string_array[i].replace(charracter,'')\n",
        "            if (max_length < len(word_after_charracter_removed)):\n",
        "                max_length_word = input_string_array[i]\n",
        "\n",
        "    return max_length_word\n",
        "\n",
        "\n",
        "input = str(input())\n",
        "input_string_array = input.split(',')\n",
        "\n",
        "print(longest_string_after_deleting_a_charecter(input_string_array))"
      ]
    },
    {
      "attachments": {},
      "cell_type": "markdown",
      "metadata": {
        "id": "ItKANDJ-ZEaZ"
      },
      "source": [
        "Question 5: You are given a list of integers. Write a Python function to find the maximum sum of a subarray with the constraint that no three numbers in the subarray are consecutive. In other words, you need to find the maximum sum by selecting elements such that no three consecutive elements are included in the sum.\n",
        "\n",
        "Example:\\\n",
        "Input: [2, 5, 3, 1, 7, 9, 6]\\\n",
        "Output: 23"
      ]
    },
    {
      "cell_type": "code",
      "execution_count": null,
      "metadata": {
        "id": "TdbXdCsyZcay"
      },
      "outputs": [],
      "source": [
        "\n",
        "\n",
        "\n",
        "\n",
        "\n",
        "def check_if_array_consecutive_numbers(sub_array):\n",
        "    length_of_subarray = len(sub_array)\n",
        "    element1=0\n",
        "    element2=0\n",
        "    element3=0\n",
        "    for i in range(length_of_subarray):\n",
        "        element1 = sub_array[i]\n",
        "        if ((i+1) < length_of_subarray):\n",
        "            element2 = sub_array[i+1] + 1\n",
        "        if ((i+2) < length_of_subarray):\n",
        "            element3 = sub_array[i+2] + 2\n",
        "        \n",
        "        if (element1 != element2 and element3 != element1 and element2 != element3 ):\n",
        "            return True\n",
        "        else:\n",
        "            return False\n",
        "\n",
        "\n",
        "\n",
        "def find_max_sum_of_subarray_with_no_consecutive_numbers(input_array):\n",
        "    maxSum = 0\n",
        "    size_of_array = len(input_array)\n",
        "    print(size_of_array)\n",
        "    for i in range(0, size_of_array):\n",
        "        currSum = 0\n",
        "        for j in range(i, size_of_array):\n",
        "            subArray = (input_array[i:size_of_array])\n",
        "            if(check_if_array_consecutive_numbers(subArray)):\n",
        "                break\n",
        "            else: \n",
        "                currSum = currSum + input_array[j]\n",
        "                if(currSum > maxSum):\n",
        "                    maxSum = currSum\n",
        "            \n",
        "    return maxSum\n",
        "    \n",
        "\n",
        "numbers = str(input())\n",
        "numbers = numbers.split(',')\n",
        "\n",
        "\n",
        "for i in range(0, len(numbers)):\n",
        "    numbers[i] = int(numbers[i])\n",
        "\n",
        "#print(numbers)\n",
        "print(find_max_sum_of_subarray_with_no_consecutive_numbers(numbers))"
      ]
    }
  ],
  "metadata": {
    "colab": {
      "provenance": []
    },
    "kernelspec": {
      "display_name": "Python 3",
      "name": "python3"
    },
    "language_info": {
      "codemirror_mode": {
        "name": "ipython",
        "version": 3
      },
      "file_extension": ".py",
      "mimetype": "text/x-python",
      "name": "python",
      "nbconvert_exporter": "python",
      "pygments_lexer": "ipython3",
      "version": "3.9.6"
    }
  },
  "nbformat": 4,
  "nbformat_minor": 0
}
