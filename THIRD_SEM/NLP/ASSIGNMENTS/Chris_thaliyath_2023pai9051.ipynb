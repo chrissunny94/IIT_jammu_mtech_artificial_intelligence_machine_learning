{
 "cells": [
  {
   "cell_type": "markdown",
   "metadata": {},
   "source": [
    "## Chris Sunny Thaliyath\n",
    "## Assignment #1\n",
    "\n",
    "NLP\n",
    " \n",
    "- Implement \n",
    "    - Continuous Bag of Words (CBOW) and \n",
    "    - Skip-gram (SKI gram) word embedding models on the preprocessed data. \n",
    "    \n",
    "You can use existing libraries or implement the models from scratch.\n"
   ]
  },
  {
   "cell_type": "markdown",
   "metadata": {},
   "source": [
    " ### STEP 1 DATA prep\n",
    " \n",
    " Clean and preprocess the given data. This includes tasks such as removing stopwords,\n",
    "handling punctuation, and tokenizing the text. Ensure that the data is in a suitable\n",
    "format for further analysis."
   ]
  },
  {
   "cell_type": "code",
   "execution_count": 6,
   "metadata": {},
   "outputs": [
    {
     "name": "stdout",
     "output_type": "stream",
     "text": [
      "0       None\n",
      "1       None\n",
      "2       None\n",
      "3       None\n",
      "4       None\n",
      "        ... \n",
      "5837    None\n",
      "5838    None\n",
      "5839    None\n",
      "5840    None\n",
      "5841    None\n",
      "Name: Sentence, Length: 5842, dtype: object\n"
     ]
    }
   ],
   "source": [
    "import pandas as pd\n",
    "import re\n",
    "\n",
    "# Load dataset\n",
    "df = pd.read_csv('data.csv')\n",
    "\n",
    "# Text cleaning function\n",
    "def clean_text(text):\n",
    "    text = text.lower()\n",
    "    text = re.sub(r'[^\\w\\s]', '', text)  # remove punctuation\n",
    "    \n",
    "# Apply the cleaning function to the text column\n",
    "Sentence_list = df['Sentence'].apply(clean_text)\n",
    "Sentiment_list = df['Sentiment'].apply(clean_text)\n",
    "\n",
    "print(Sentence_list)\n",
    "\n"
   ]
  },
  {
   "cell_type": "markdown",
   "metadata": {},
   "source": [
    "The CBOW architecture is pretty simple contains :\n",
    "\n",
    "- the word embeddings as inputs (idx)\n",
    "- the linear model as the hidden layer\n",
    "- the log_softmax as the output"
   ]
  },
  {
   "cell_type": "code",
   "execution_count": null,
   "metadata": {},
   "outputs": [],
   "source": []
  }
 ],
 "metadata": {
  "kernelspec": {
   "display_name": "Python 3",
   "language": "python",
   "name": "python3"
  },
  "language_info": {
   "codemirror_mode": {
    "name": "ipython",
    "version": 3
   },
   "file_extension": ".py",
   "mimetype": "text/x-python",
   "name": "python",
   "nbconvert_exporter": "python",
   "pygments_lexer": "ipython3",
   "version": "3.12.4"
  }
 },
 "nbformat": 4,
 "nbformat_minor": 2
}
