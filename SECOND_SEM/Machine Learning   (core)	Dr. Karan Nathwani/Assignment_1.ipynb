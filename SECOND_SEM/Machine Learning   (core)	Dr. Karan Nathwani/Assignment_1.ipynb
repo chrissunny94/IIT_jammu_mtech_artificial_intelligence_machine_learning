{
 "cells": [
  {
   "cell_type": "markdown",
   "metadata": {},
   "source": [
    "# Name : Chris SUnny Thaliyath\n",
    "# Phone Number : 8130324904\n",
    "# Email Chrissunny94@gmail.com\n",
    "# ROLL number 2023pai9051@iitjammu.ac.in\n",
    "\n",
    "\n"
   ]
  },
  {
   "cell_type": "markdown",
   "metadata": {},
   "source": [
    "# we need to find the curve fit for this data\n",
    "\n",
    "![SNOWFALL](./Assignment_1/WhatsApp%20Image%202024-02-16%20at%2020.00.35.jpeg) "
   ]
  },
  {
   "cell_type": "markdown",
   "metadata": {},
   "source": []
  },
  {
   "cell_type": "code",
   "execution_count": 49,
   "metadata": {},
   "outputs": [
    {
     "name": "stdout",
     "output_type": "stream",
     "text": [
      "[-1.72666438e+03  9.80498812e-01  6.65442410e+07  2.84761524e+01\n",
      "  1.93435087e+05] [[ 6.09147340e+10 -2.55590889e+01 -4.25551365e+13 -9.47673638e+05\n",
      "  -6.82763621e+12]\n",
      " [-2.55590889e+01  9.78863081e-06 -1.55482918e+06 -3.82688556e-02\n",
      "   2.59809454e+03]\n",
      " [-4.25551365e+13 -1.55482918e+06  1.60189968e+18  3.75215426e+10\n",
      "   5.02755677e+15]\n",
      " [-9.47673638e+05 -3.82688556e-02  3.75215426e+10  8.79925069e+02\n",
      "   1.12263153e+08]\n",
      " [-6.82763621e+12  2.59809454e+03  5.02755677e+15  1.12263153e+08\n",
      "   7.65318822e+14]]\n"
     ]
    },
    {
     "name": "stderr",
     "output_type": "stream",
     "text": [
      "/var/folders/xr/rvs3y4j51wb_20993x051pbr0000gn/T/ipykernel_38614/3150283579.py:17: RuntimeWarning: invalid value encountered in power\n",
      "  return a + (b - a)/((1 + c*np.exp(-d*x))**(1/e))\n"
     ]
    }
   ],
   "source": [
    "from math import sin , pow\n",
    "import decimal\n",
    "\n",
    "import matplotlib.pyplot as plt\n",
    "import numpy as np\n",
    "import pandas as pd\n",
    "import matplotlib.pyplot as plt\n",
    "from scipy.optimize import curve_fit\n",
    "from scipy import optimize\n",
    "\n",
    "\n",
    "\n",
    "\n",
    "def objective(x, a, b, c):\n",
    " return a * x + b\n",
    "\n",
    "\n",
    "def func(x, a , b , c , d , e):\n",
    "    return a + (b - a)/((1 + c*np.exp(-d*x))**(1/e))\n",
    "\n",
    "def model_f(x,a,b,c):\n",
    "  return a*(x-b)**2+c\n",
    "\n",
    "# Define the Gaussian function\n",
    "def Gauss(x, A, B):\n",
    "    y = A*np.exp(-1*B*x**2)\n",
    "    return y\n",
    "\n",
    "def drange(x, y, jump):\n",
    "  while x < y:\n",
    "    yield float(x)\n",
    "    x += decimal.Decimal(jump)\n",
    "\n",
    "\n",
    "def function_y(x):\n",
    "    noise = np.random.normal(0,pow(0.03,2),1)\n",
    "    y = sin(1+pow(x+noise,2)) + noise\n",
    "    return y\n",
    "\n",
    "\n",
    "\n",
    "def main ():\n",
    "\n",
    "    X_ = [] \n",
    "    Y_ = [] \n",
    "    for x in list(drange(0, 1, '0.01')):\n",
    "        y = function_y(x)\n",
    "        #print(y)\n",
    "        #print(x,y[0])\n",
    "        X_.append(x)\n",
    "        Y_.append(y[0])\n",
    "    #plt.scatter(np.array(X_), np.array(Y_))\n",
    "    parameters, covariance = curve_fit(Gauss, X_, Y_)\n",
    "    fit_A = parameters[0]\n",
    "    fit_B = parameters[1]\n",
    "    print(fit_A)\n",
    "    print(fit_B)\n",
    "    #popt, pcov = curve_fit(model_f, np.array(X_), np.array(Y_), p0=[3,2,-16])[0]\n",
    "    # x , y = np.split(array1,[-1],axis=1)\n",
    "    popt, pcov = optimize.curve_fit(func, X_ , Y_ , p0=[23.2, 30.1 , 1 , 1 , 1])\n",
    "    #print(X_)\n",
    "    #print(Y_)\n",
    "    #popt, _ = curve_fit(objective, X_,Y_)\n",
    "    print(popt, pcov)\n",
    "\n",
    "\n",
    "    plt.show()\n",
    "        \n",
    "\n",
    "\n",
    "\n",
    "if __name__ == '__main__':\n",
    "    main()\n"
   ]
  },
  {
   "cell_type": "markdown",
   "metadata": {},
   "source": [
    "References\n",
    "\n",
    "- https://medium.com/@ms_somanna/guide-to-adding-noise-to-your-data-using-python-and-numpy-c8be815df524#:~:text=The%20easiest%20way%20to%20add,the%20data%20and%20so%20on."
   ]
  }
 ],
 "metadata": {
  "kernelspec": {
   "display_name": "Python 3",
   "language": "python",
   "name": "python3"
  },
  "language_info": {
   "codemirror_mode": {
    "name": "ipython",
    "version": 3
   },
   "file_extension": ".py",
   "mimetype": "text/x-python",
   "name": "python",
   "nbconvert_exporter": "python",
   "pygments_lexer": "ipython3",
   "version": "3.9.6"
  }
 },
 "nbformat": 4,
 "nbformat_minor": 2
}
